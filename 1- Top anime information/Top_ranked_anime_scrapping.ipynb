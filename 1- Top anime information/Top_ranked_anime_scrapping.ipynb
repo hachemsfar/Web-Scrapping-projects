{
 "cells": [
  {
   "cell_type": "code",
   "execution_count": 1,
   "metadata": {
    "collapsed": true
   },
   "outputs": [],
   "source": [
    "from urllib.request import urlopen\n",
    "from bs4 import BeautifulSoup\n",
    "import pandas as pd\n",
    "from tqdm import tqdm"
   ]
  },
  {
   "cell_type": "code",
   "execution_count": 2,
   "metadata": {
    "collapsed": true
   },
   "outputs": [],
   "source": [
    "nbre_anime=14800\n",
    "Score=[float('nan')]*(nbre_anime+800)\n",
    "Ranked=[float('nan')]*(nbre_anime+800)\n",
    "English=[float('nan')]*(nbre_anime+800)\n",
    "jap=[float('nan')]*(nbre_anime+800)\n",
    "Episodes=[float('nan')]*(nbre_anime+800)\n",
    "Type=[float('nan')]*(nbre_anime+800)\n",
    "Aired=[float('nan')]*(nbre_anime+800)\n",
    "Producers=[float('nan')]*(nbre_anime+800)\n",
    "Licensors=[float('nan')]*(nbre_anime+800)\n",
    "Source=[float('nan')]*(nbre_anime+800)\n",
    "Duration=[float('nan')]*(nbre_anime+800)\n",
    "Genres=[float('nan')]*(nbre_anime+800)\n",
    "Rating=[float('nan')]*(nbre_anime+800)"
   ]
  },
  {
   "cell_type": "code",
   "execution_count": 3,
   "metadata": {},
   "outputs": [
    {
     "name": "stderr",
     "output_type": "stream",
     "text": [
      "  0%|                                                                                          | 0/296 [00:00<?, ?it/s]C:\\Users\\lenovo\\Anaconda3\\lib\\site-packages\\bs4\\__init__.py:181: UserWarning: No parser was explicitly specified, so I'm using the best available HTML parser for this system (\"lxml\"). This usually isn't a problem, but if you run this code on another system, or in a different virtual environment, it may use a different parser and behave differently.\n",
      "\n",
      "The code that caused this warning is on line 193 of the file C:\\Users\\lenovo\\Anaconda3\\lib\\runpy.py. To get rid of this warning, change code that looks like this:\n",
      "\n",
      " BeautifulSoup(YOUR_MARKUP})\n",
      "\n",
      "to this:\n",
      "\n",
      " BeautifulSoup(YOUR_MARKUP, \"lxml\")\n",
      "\n",
      "  markup_type=markup_type))\n",
      "100%|████████████████████████████████████████████████████████████████████████████| 296/296 [13:30:14<00:00, 164.24s/it]\n"
     ]
    }
   ],
   "source": [
    "#14800\n",
    "for x in tqdm(range(0,nbre_anime,50)):\n",
    "    url='https://myanimelist.net/topanime.php?limit='+str(x)\n",
    "    html = urlopen(url).read()\n",
    "    soup = BeautifulSoup(html, 'html')\n",
    "    \n",
    "    title = [i for i in soup.find_all(class_='title al va-t word-break')]\n",
    "        \n",
    "    for i in range(len(title)):\n",
    "        try:\n",
    "            url=title[i].find_all('a')[1].get('href')\n",
    "            html = urlopen(url).read()\n",
    "            soup = BeautifulSoup(html, 'html')\n",
    "            \n",
    "            f=soup.find_all('span',class_='dark_text')\n",
    "            for m in range(len(f)):\n",
    "                c=f[m].parent\n",
    "                if(c.text.find('English:')!=-1):\n",
    "                    r=str(c.text)\n",
    "                    English[x+i]=r.split('English:')[1]\n",
    "                    \n",
    "                if(c.text.find('Japanese:')!=-1):\n",
    "                    r=str(c.text)\n",
    "                    jap[x+i]=r.split('Japanese:')[1]\n",
    "                    \n",
    "                if(c.text.find('Type:')!=-1):\n",
    "                    r=str(c.text)\n",
    "                    Type[x+i]=r.split('Type:')[1]\n",
    "                    \n",
    "                if(c.text.find('Episodes:')!=-1):\n",
    "                    r=str(c.text)\n",
    "                    Episodes[x+i]=r.split('Episodes:')[1]\n",
    "                    \n",
    "                if(c.text.find('Aired:')!=-1):\n",
    "                    r=str(c.text)\n",
    "                    Aired[x+i]=r.split('Aired:')[1]\n",
    "                    \n",
    "                if(c.text.find('Producers:')!=-1):\n",
    "                    r=str(c.text)\n",
    "                    Producers[x+i]=r.split('Producers:')[1]\n",
    "\n",
    "                if(c.text.find('Licensors:')!=-1):\n",
    "                    r=str(c.text)\n",
    "                    Licensors[x+i]=r.split('Licensors:')[1]\n",
    "\n",
    "                if(c.text.find('Source:')!=-1):\n",
    "                    r=str(c.text)\n",
    "                    Source[x+i]=r.split('Source:')[1]\n",
    "\n",
    "                if(c.text.find('Duration:')!=-1):\n",
    "                    r=str(c.text)\n",
    "                    Duration[x+i]=r.split('Duration:')[1]\n",
    "\n",
    "                if(c.text.find('Genres:')!=-1):\n",
    "                    r=str(c.text)\n",
    "                    Genres[x+i]=r.split('Genres:')[1]\n",
    "                    \n",
    "                if(c.text.find('Rating:')!=-1):\n",
    "                    r=str(c.text)\n",
    "                    Rating[x+i]=r.split('Rating:')[1]\n",
    "                    \n",
    "                if(c.text.find('Score:')!=-1):\n",
    "                    r=str(c.text)\n",
    "                    Score[x+i]=r.split('Score:')[1]\n",
    "                    \n",
    "                if(c.text.find('Ranked:')!=-1):\n",
    "                    r=str(c.text)\n",
    "                    Ranked[x+i]=r.split('Ranked:')[1]\n",
    "\n",
    "        except:\n",
    "            Genres.pop(x+i)\n",
    "            Duration.pop(x+i)\n",
    "            Source.pop(x+i)\n",
    "            Licensors.pop(x+i)\n",
    "            Producers.pop(x+i)\n",
    "            Aired.pop(x+i)\n",
    "            Episodes.pop(x+i)\n",
    "            Type.pop(x+i)\n",
    "            jap.pop(x+i)\n",
    "            English.pop(x+i)\n",
    "            Ranked.pop(x+i)\n",
    "            Rating.pop(x+i)\n",
    "            Score.pop(x+i)"
   ]
  },
  {
   "cell_type": "code",
   "execution_count": 4,
   "metadata": {
    "collapsed": true
   },
   "outputs": [],
   "source": [
    "dict1={'Rating':Rating,'Score':Score,'Ranked':Ranked,'English':English,'Jap':jap,'Episodes':Episodes,'Type':Type,'Aired':Aired,'Producers':Producers,'Licensors':Licensors,'Source':Source,'Duration':Duration,'Genres':Genres}"
   ]
  },
  {
   "cell_type": "code",
   "execution_count": 5,
   "metadata": {
    "collapsed": true
   },
   "outputs": [],
   "source": [
    "df=pd.DataFrame.from_dict(dict1)"
   ]
  },
  {
   "cell_type": "code",
   "execution_count": 6,
   "metadata": {
    "scrolled": true
   },
   "outputs": [
    {
     "data": {
      "text/html": [
       "<div>\n",
       "<style>\n",
       "    .dataframe thead tr:only-child th {\n",
       "        text-align: right;\n",
       "    }\n",
       "\n",
       "    .dataframe thead th {\n",
       "        text-align: left;\n",
       "    }\n",
       "\n",
       "    .dataframe tbody tr th {\n",
       "        vertical-align: top;\n",
       "    }\n",
       "</style>\n",
       "<table border=\"1\" class=\"dataframe\">\n",
       "  <thead>\n",
       "    <tr style=\"text-align: right;\">\n",
       "      <th></th>\n",
       "      <th>Aired</th>\n",
       "      <th>Duration</th>\n",
       "      <th>English</th>\n",
       "      <th>Episodes</th>\n",
       "      <th>Genres</th>\n",
       "      <th>Jap</th>\n",
       "      <th>Licensors</th>\n",
       "      <th>Producers</th>\n",
       "      <th>Ranked</th>\n",
       "      <th>Rating</th>\n",
       "      <th>Score</th>\n",
       "      <th>Source</th>\n",
       "      <th>Type</th>\n",
       "    </tr>\n",
       "  </thead>\n",
       "  <tbody>\n",
       "    <tr>\n",
       "      <th>0</th>\n",
       "      <td>\\n  Apr 5, 2009 to Jul 4, 2010\\n</td>\n",
       "      <td>\\n  24 min. per ep.\\n</td>\n",
       "      <td>Fullmetal Alchemist: Brotherhood\\n</td>\n",
       "      <td>\\n  64\\n</td>\n",
       "      <td>\\nAction, Military, Adventure, Comedy, Drama, ...</td>\n",
       "      <td>鋼の錬金術師 FULLMETAL ALCHEMIST\\n</td>\n",
       "      <td>\\nFunimation,       Aniplex of America</td>\n",
       "      <td>\\nAniplex,       Square Enix,       Mainichi B...</td>\n",
       "      <td>\\n  #12\\n\\n2\\n    based on the top anime page....</td>\n",
       "      <td>\\n  R - 17+ (violence &amp; profanity)\\n</td>\n",
       "      <td>\\n9.251 (scored by 780,931 users)\\n      \\n\\n\\...</td>\n",
       "      <td>\\n  Manga\\n</td>\n",
       "      <td>\\nTV</td>\n",
       "    </tr>\n",
       "  </tbody>\n",
       "</table>\n",
       "</div>"
      ],
      "text/plain": [
       "                                Aired                 Duration  \\\n",
       "0  \\n  Apr 5, 2009 to Jul 4, 2010\\n    \\n  24 min. per ep.\\n     \n",
       "\n",
       "                                 English    Episodes  \\\n",
       "0   Fullmetal Alchemist: Brotherhood\\n    \\n  64\\n     \n",
       "\n",
       "                                              Genres  \\\n",
       "0  \\nAction, Military, Adventure, Comedy, Drama, ...   \n",
       "\n",
       "                               Jap                                Licensors  \\\n",
       "0   鋼の錬金術師 FULLMETAL ALCHEMIST\\n    \\nFunimation,       Aniplex of America    \n",
       "\n",
       "                                           Producers  \\\n",
       "0  \\nAniplex,       Square Enix,       Mainichi B...   \n",
       "\n",
       "                                              Ranked  \\\n",
       "0  \\n  #12\\n\\n2\\n    based on the top anime page....   \n",
       "\n",
       "                                   Rating  \\\n",
       "0  \\n  R - 17+ (violence & profanity)\\n     \n",
       "\n",
       "                                               Score         Source  Type  \n",
       "0  \\n9.251 (scored by 780,931 users)\\n      \\n\\n\\...  \\n  Manga\\n    \\nTV  "
      ]
     },
     "execution_count": 6,
     "metadata": {},
     "output_type": "execute_result"
    }
   ],
   "source": [
    "df.head(1)"
   ]
  },
  {
   "cell_type": "code",
   "execution_count": 7,
   "metadata": {
    "collapsed": true
   },
   "outputs": [],
   "source": [
    "df=df.dropna(thresh=5)"
   ]
  },
  {
   "cell_type": "markdown",
   "metadata": {},
   "source": [
    "***Data cleaning***"
   ]
  },
  {
   "cell_type": "code",
   "execution_count": 8,
   "metadata": {
    "collapsed": true
   },
   "outputs": [],
   "source": [
    "df['Jap']=df['Jap'].apply(lambda x:str(x).split('\\n')[0])\n",
    "df['English']=df['English'].apply(lambda x:str(x).split('\\n')[0])\n",
    "\n",
    "\n",
    "df['Score']=df['Score'].apply(lambda x:str(x).split('(')[0])\n",
    "\n",
    "df['Licensors']=df['Licensors'].apply(lambda x:str(x)[1:])\n",
    "df['Type']=df['Type'].apply(lambda x:str(x)[1:])\n",
    "df['Producers']=df['Producers'].apply(lambda x:str(x)[1:])\n",
    "df['Genres']=df['Genres'].apply(lambda x:str(x)[1:])\n",
    "df['Score']=df['Score'].apply(lambda x:str(x)[1:])\n",
    "df['Source']=df['Source'].apply(lambda x:str(x)[2:])\n",
    "\n",
    "df['Duration']=df['Duration'].apply(lambda x:str(x)[2:])\n",
    "df['Episodes']=df['Episodes'].apply(lambda x:str(x)[2:])\n",
    "df['Rating']=df['Rating'].apply(lambda x:str(x)[2:])\n",
    "\n",
    "df['Ranked']=df['Ranked'].apply(lambda x:str(x)[1:])\n",
    "\n",
    "df['Aired']=df['Aired'].apply(lambda x:str(x)[2:])\n",
    "df['Rating']=df['Rating'].apply(lambda x:str(x).split('\\n')[0])\n",
    "df['Source']=df['Source'].apply(lambda x:str(x).split('\\n')[0])\n",
    "df['Episodes']=df['Episodes'].apply(lambda x:str(x).split('\\n')[0])\n",
    "df['Duration']=df['Duration'].apply(lambda x:str(x).split('\\n')[0])\n",
    "df['Aired']=df['Aired'].apply(lambda x:str(x).split('\\n')[0])\n",
    "df['Ranked']=df['Ranked'].apply(lambda x:str(x).split('\\n')[0])\n",
    "\n",
    "df['Ranked']=df['Ranked'].apply(lambda x:str(x)[:-1])"
   ]
  },
  {
   "cell_type": "code",
   "execution_count": 14,
   "metadata": {},
   "outputs": [
    {
     "data": {
      "text/plain": [
       "(14342, 13)"
      ]
     },
     "execution_count": 14,
     "metadata": {},
     "output_type": "execute_result"
    }
   ],
   "source": [
    "df.shape"
   ]
  },
  {
   "cell_type": "code",
   "execution_count": 48,
   "metadata": {
    "scrolled": false
   },
   "outputs": [
    {
     "data": {
      "text/html": [
       "<div>\n",
       "<style>\n",
       "    .dataframe thead tr:only-child th {\n",
       "        text-align: right;\n",
       "    }\n",
       "\n",
       "    .dataframe thead th {\n",
       "        text-align: left;\n",
       "    }\n",
       "\n",
       "    .dataframe tbody tr th {\n",
       "        vertical-align: top;\n",
       "    }\n",
       "</style>\n",
       "<table border=\"1\" class=\"dataframe\">\n",
       "  <thead>\n",
       "    <tr style=\"text-align: right;\">\n",
       "      <th></th>\n",
       "      <th>Aired</th>\n",
       "      <th>Duration</th>\n",
       "      <th>English</th>\n",
       "      <th>Episodes</th>\n",
       "      <th>Genres</th>\n",
       "      <th>Jap</th>\n",
       "      <th>Licensors</th>\n",
       "      <th>Producers</th>\n",
       "      <th>Ranked</th>\n",
       "      <th>Rating</th>\n",
       "      <th>Score</th>\n",
       "      <th>Source</th>\n",
       "      <th>Type</th>\n",
       "    </tr>\n",
       "  </thead>\n",
       "  <tbody>\n",
       "    <tr>\n",
       "      <th>0</th>\n",
       "      <td>Apr 5, 2009 to Jul 4, 2010</td>\n",
       "      <td>24 min. per ep.</td>\n",
       "      <td>Fullmetal Alchemist: Brotherhood</td>\n",
       "      <td>64</td>\n",
       "      <td>Action, Military, Adventure, Comedy, Drama, Ma...</td>\n",
       "      <td>鋼の錬金術師 FULLMETAL ALCHEMIST</td>\n",
       "      <td>Funimation,       Aniplex of America</td>\n",
       "      <td>Aniplex,       Square Enix,       Mainichi Bro...</td>\n",
       "      <td>#1</td>\n",
       "      <td>R - 17+ (violence &amp; profanity)</td>\n",
       "      <td>9.251</td>\n",
       "      <td>Manga</td>\n",
       "      <td>TV</td>\n",
       "    </tr>\n",
       "    <tr>\n",
       "      <th>1</th>\n",
       "      <td>Aug 26, 2016</td>\n",
       "      <td>1 hr. 46 min.</td>\n",
       "      <td>Your Name.</td>\n",
       "      <td>1</td>\n",
       "      <td>Romance, Supernatural, School, Drama</td>\n",
       "      <td>君の名は。</td>\n",
       "      <td>Funimation,       NYAV Post</td>\n",
       "      <td>Kadokawa Shoten,       Toho,       Sound Team ...</td>\n",
       "      <td>#2</td>\n",
       "      <td>PG-13 - Teens 13 or older</td>\n",
       "      <td>9.161</td>\n",
       "      <td>Original</td>\n",
       "      <td>Movie</td>\n",
       "    </tr>\n",
       "    <tr>\n",
       "      <th>3</th>\n",
       "      <td>Apr 6, 2011 to Sep 14, 2011</td>\n",
       "      <td>24 min. per ep.</td>\n",
       "      <td>Steins;Gate</td>\n",
       "      <td>24</td>\n",
       "      <td>Thriller, Sci-Fi</td>\n",
       "      <td>STEINS;GATE</td>\n",
       "      <td>Funimation</td>\n",
       "      <td>Frontier Works,       Media Factory,       Mov...</td>\n",
       "      <td>#4</td>\n",
       "      <td>PG-13 - Teens 13 or older</td>\n",
       "      <td>9.141</td>\n",
       "      <td>Visual novel</td>\n",
       "      <td>TV</td>\n",
       "    </tr>\n",
       "    <tr>\n",
       "      <th>4</th>\n",
       "      <td>Oct 2, 2011 to Sep 24, 2014</td>\n",
       "      <td>23 min. per ep.</td>\n",
       "      <td>Hunter x Hunter</td>\n",
       "      <td>148</td>\n",
       "      <td>Action, Adventure, Fantasy, Shounen, Super Power</td>\n",
       "      <td>HUNTER×HUNTER（ハンター×ハンター）</td>\n",
       "      <td>Viz Media</td>\n",
       "      <td>VAP,       Nippon Television Network,       Sh...</td>\n",
       "      <td>#5</td>\n",
       "      <td>PG-13 - Teens 13 or older</td>\n",
       "      <td>9.111</td>\n",
       "      <td>Manga</td>\n",
       "      <td>TV</td>\n",
       "    </tr>\n",
       "    <tr>\n",
       "      <th>5</th>\n",
       "      <td>Jan 8, 1988 to Mar 17, 1997</td>\n",
       "      <td>26 min. per ep.</td>\n",
       "      <td>Legend of the Galactic Heroes</td>\n",
       "      <td>110</td>\n",
       "      <td>Military, Sci-Fi, Space, Drama</td>\n",
       "      <td>銀河英雄伝説</td>\n",
       "      <td>Sentai Filmworks</td>\n",
       "      <td>Kitty Films</td>\n",
       "      <td>#6</td>\n",
       "      <td>R - 17+ (violence &amp; profanity)</td>\n",
       "      <td>9.101</td>\n",
       "      <td>Novel</td>\n",
       "      <td>OVA</td>\n",
       "    </tr>\n",
       "  </tbody>\n",
       "</table>\n",
       "</div>"
      ],
      "text/plain": [
       "                          Aired          Duration  \\\n",
       "0    Apr 5, 2009 to Jul 4, 2010   24 min. per ep.   \n",
       "1                  Aug 26, 2016     1 hr. 46 min.   \n",
       "3   Apr 6, 2011 to Sep 14, 2011   24 min. per ep.   \n",
       "4   Oct 2, 2011 to Sep 24, 2014   23 min. per ep.   \n",
       "5   Jan 8, 1988 to Mar 17, 1997   26 min. per ep.   \n",
       "\n",
       "                             English Episodes  \\\n",
       "0   Fullmetal Alchemist: Brotherhood       64   \n",
       "1                         Your Name.        1   \n",
       "3                        Steins;Gate       24   \n",
       "4                    Hunter x Hunter      148   \n",
       "5      Legend of the Galactic Heroes      110   \n",
       "\n",
       "                                              Genres  \\\n",
       "0  Action, Military, Adventure, Comedy, Drama, Ma...   \n",
       "1               Romance, Supernatural, School, Drama   \n",
       "3                                   Thriller, Sci-Fi   \n",
       "4   Action, Adventure, Fantasy, Shounen, Super Power   \n",
       "5                     Military, Sci-Fi, Space, Drama   \n",
       "\n",
       "                           Jap                              Licensors  \\\n",
       "0   鋼の錬金術師 FULLMETAL ALCHEMIST  Funimation,       Aniplex of America    \n",
       "1                        君の名は。           Funimation,       NYAV Post    \n",
       "3                  STEINS;GATE                            Funimation    \n",
       "4     HUNTER×HUNTER（ハンター×ハンター）                             Viz Media    \n",
       "5                       銀河英雄伝説                      Sentai Filmworks    \n",
       "\n",
       "                                           Producers Ranked  \\\n",
       "0  Aniplex,       Square Enix,       Mainichi Bro...     #1   \n",
       "1  Kadokawa Shoten,       Toho,       Sound Team ...     #2   \n",
       "3  Frontier Works,       Media Factory,       Mov...     #4   \n",
       "4  VAP,       Nippon Television Network,       Sh...     #5   \n",
       "5                                       Kitty Films      #6   \n",
       "\n",
       "                            Rating   Score         Source   Type  \n",
       "0   R - 17+ (violence & profanity)  9.251           Manga     TV  \n",
       "1        PG-13 - Teens 13 or older  9.161        Original  Movie  \n",
       "3        PG-13 - Teens 13 or older  9.141    Visual novel     TV  \n",
       "4        PG-13 - Teens 13 or older  9.111           Manga     TV  \n",
       "5   R - 17+ (violence & profanity)  9.101           Novel    OVA  "
      ]
     },
     "execution_count": 48,
     "metadata": {},
     "output_type": "execute_result"
    }
   ],
   "source": [
    "df.head()"
   ]
  },
  {
   "cell_type": "code",
   "execution_count": 13,
   "metadata": {
    "collapsed": true
   },
   "outputs": [],
   "source": [
    "df.to_csv('top_anime.csv', encoding='utf-8')"
   ]
  },
  {
   "cell_type": "code",
   "execution_count": 81,
   "metadata": {
    "collapsed": true
   },
   "outputs": [],
   "source": [
    "writer = pd.ExcelWriter('top_anime_excel.xlsx')\n",
    "df.to_excel(writer,'Sheet1')\n",
    "writer.save()"
   ]
  },
  {
   "cell_type": "code",
   "execution_count": 46,
   "metadata": {},
   "outputs": [],
   "source": [
    "df=df[(df['Jap']!='nan') | (df['English']!='nan')]"
   ]
  },
  {
   "cell_type": "code",
   "execution_count": 72,
   "metadata": {
    "collapsed": true
   },
   "outputs": [],
   "source": [
    "df.to_csv('top_anime_cleaned.csv', encoding='utf-8')"
   ]
  },
  {
   "cell_type": "code",
   "execution_count": 80,
   "metadata": {},
   "outputs": [
    {
     "data": {
      "text/html": [
       "<div>\n",
       "<style>\n",
       "    .dataframe thead tr:only-child th {\n",
       "        text-align: right;\n",
       "    }\n",
       "\n",
       "    .dataframe thead th {\n",
       "        text-align: left;\n",
       "    }\n",
       "\n",
       "    .dataframe tbody tr th {\n",
       "        vertical-align: top;\n",
       "    }\n",
       "</style>\n",
       "<table border=\"1\" class=\"dataframe\">\n",
       "  <thead>\n",
       "    <tr style=\"text-align: right;\">\n",
       "      <th></th>\n",
       "      <th>Aired</th>\n",
       "      <th>Duration</th>\n",
       "      <th>English</th>\n",
       "      <th>Episodes</th>\n",
       "      <th>Genres</th>\n",
       "      <th>Jap</th>\n",
       "      <th>Licensors</th>\n",
       "      <th>Producers</th>\n",
       "      <th>Ranked</th>\n",
       "      <th>Rating</th>\n",
       "      <th>Score</th>\n",
       "      <th>Source</th>\n",
       "      <th>Type</th>\n",
       "    </tr>\n",
       "  </thead>\n",
       "  <tbody>\n",
       "    <tr>\n",
       "      <th>90</th>\n",
       "      <td>Oct 20, 1999 to ?</td>\n",
       "      <td>24 min.</td>\n",
       "      <td>One Piece</td>\n",
       "      <td>Unknown</td>\n",
       "      <td>Action, Adventure, Comedy, Super Power, Drama,...</td>\n",
       "      <td>ONE PIECE</td>\n",
       "      <td>Funimation,       4Kids Entertainment</td>\n",
       "      <td>Fuji TV,       TAP,       Shueisha</td>\n",
       "      <td>#91</td>\n",
       "      <td>PG-13 - Teens 13 or older</td>\n",
       "      <td>8.531</td>\n",
       "      <td>Manga</td>\n",
       "      <td>TV</td>\n",
       "    </tr>\n",
       "  </tbody>\n",
       "</table>\n",
       "</div>"
      ],
      "text/plain": [
       "                 Aired  Duration     English  Episodes  \\\n",
       "90   Oct 20, 1999 to ?   24 min.   One Piece   Unknown   \n",
       "\n",
       "                                               Genres         Jap  \\\n",
       "90  Action, Adventure, Comedy, Super Power, Drama,...   ONE PIECE   \n",
       "\n",
       "                                 Licensors  \\\n",
       "90  Funimation,       4Kids Entertainment    \n",
       "\n",
       "                              Producers Ranked                      Rating  \\\n",
       "90  Fuji TV,       TAP,       Shueisha     #91   PG-13 - Teens 13 or older   \n",
       "\n",
       "     Score  Source Type  \n",
       "90  8.531    Manga   TV  "
      ]
     },
     "execution_count": 80,
     "metadata": {},
     "output_type": "execute_result"
    }
   ],
   "source": [
    "df[df['English']==' One Piece']"
   ]
  },
  {
   "cell_type": "code",
   "execution_count": null,
   "metadata": {
    "collapsed": true
   },
   "outputs": [],
   "source": []
  }
 ],
 "metadata": {
  "kernelspec": {
   "display_name": "Python 3",
   "language": "python",
   "name": "python3"
  },
  "language_info": {
   "codemirror_mode": {
    "name": "ipython",
    "version": 3
   },
   "file_extension": ".py",
   "mimetype": "text/x-python",
   "name": "python",
   "nbconvert_exporter": "python",
   "pygments_lexer": "ipython3",
   "version": "3.6.7"
  }
 },
 "nbformat": 4,
 "nbformat_minor": 2
}
