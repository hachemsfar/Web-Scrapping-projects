{
 "cells": [
  {
   "cell_type": "code",
   "execution_count": 1,
   "metadata": {},
   "outputs": [],
   "source": [
    "from urllib.request import urlopen\n",
    "from bs4 import BeautifulSoup\n",
    "import pandas as pd\n",
    "from tqdm import tqdm"
   ]
  },
  {
   "cell_type": "code",
   "execution_count": 2,
   "metadata": {},
   "outputs": [
    {
     "name": "stderr",
     "output_type": "stream",
     "text": [
      "100%|██████████| 260/260 [55:06<00:00, 12.72s/it]\n"
     ]
    }
   ],
   "source": [
    "Text=[]\n",
    "Rating=[]\n",
    "\n",
    "#14800\n",
    "for x in tqdm(range(0,13000,50)):\n",
    "    url='https://myanimelist.net/topanime.php?limit='+str(x)\n",
    "    html = urlopen(url).read()\n",
    "    soup = BeautifulSoup(html, 'html')\n",
    "    \n",
    "    title = [i for i in soup.find_all(class_='title al va-t word-break')]\n",
    "        \n",
    "    for i in range(len(title)):\n",
    "        try:\n",
    "            url=title[i].find_all('a')[1].get('href')\n",
    "            for k in range(37):\n",
    "                url=url+\"/reviews?p=\"+(str(k))\n",
    "                html = urlopen(url).read()\n",
    "                soup = BeautifulSoup(html, 'html')\n",
    "\n",
    "                f=soup.find_all('div',class_='textReadability')\n",
    "                for m in range(len(f)):\n",
    "                    if(len(str(f[m].text))>50 and len(str(f[m].text))<13000):\n",
    "                        Text.append(str(f[m].text))\n",
    "                        g=soup.find_all('div',class_='mb8')\n",
    "                        X=str(g[m].text)\n",
    "                        Rating.append(int(X.split(\"Overall Rating:\\n        \")[1].split(\"\\n      \\n\")[0]))\n",
    "                        #.split(\"Overall Rating: \")[1]\n",
    "\n",
    "        except:\n",
    "            pass"
   ]
  },
  {
   "cell_type": "code",
   "execution_count": 3,
   "metadata": {},
   "outputs": [],
   "source": [
    "Text_Clean=[]\n",
    "for i in Text:\n",
    "    Text_Clean.append(i[107:])"
   ]
  },
  {
   "cell_type": "code",
   "execution_count": 4,
   "metadata": {},
   "outputs": [],
   "source": [
    "dict1={'Text':Text_Clean,'Rating':Rating}"
   ]
  },
  {
   "cell_type": "code",
   "execution_count": 5,
   "metadata": {},
   "outputs": [],
   "source": [
    "df=pd.DataFrame.from_dict(dict1)\n"
   ]
  },
  {
   "cell_type": "code",
   "execution_count": 6,
   "metadata": {},
   "outputs": [
    {
     "data": {
      "text/plain": [
       "(13762, 2)"
      ]
     },
     "execution_count": 6,
     "metadata": {},
     "output_type": "execute_result"
    }
   ],
   "source": [
    "df.shape"
   ]
  },
  {
   "cell_type": "code",
   "execution_count": 7,
   "metadata": {},
   "outputs": [],
   "source": [
    "df.to_csv('Anime_Review.csv', encoding='utf-8')\n"
   ]
  }
 ],
 "metadata": {
  "kernelspec": {
   "display_name": "Python 3",
   "language": "python",
   "name": "python3"
  },
  "language_info": {
   "codemirror_mode": {
    "name": "ipython",
    "version": 3
   },
   "file_extension": ".py",
   "mimetype": "text/x-python",
   "name": "python",
   "nbconvert_exporter": "python",
   "pygments_lexer": "ipython3",
   "version": "3.7.6"
  }
 },
 "nbformat": 4,
 "nbformat_minor": 4
}
