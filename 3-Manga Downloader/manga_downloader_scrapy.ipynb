{
 "cells": [
  {
   "cell_type": "code",
   "execution_count": 1,
   "metadata": {},
   "outputs": [],
   "source": [
    "from parsel import Selector\n",
    "import scrapy\n",
    "import requests\n",
    "import urllib.request\n",
    "import os\n",
    "from fpdf import FPDF"
   ]
  },
  {
   "cell_type": "code",
   "execution_count": 2,
   "metadata": {},
   "outputs": [
    {
     "name": "stdout",
     "output_type": "stream",
     "text": [
      "give me manga link: https://www.mangareader.net/shingeki-no-kyojin/109\n",
      "give me chap number: 57\n"
     ]
    }
   ],
   "source": [
    "urls=input(\"give me manga link: \")\n",
    "j=int(input(\"give me folder name: \"))"
   ]
  },
  {
   "cell_type": "code",
   "execution_count": 3,
   "metadata": {},
   "outputs": [],
   "source": [
    "text = requests.get(urls,stream=True, headers={'User-agent': 'Mozilla/5.0'}).text\n",
    "sel=Selector(text=text)\n",
    "x=sel.xpath('//select[@id=\"pageMenu\"]/option/@value').extract()"
   ]
  },
  {
   "cell_type": "code",
   "execution_count": 4,
   "metadata": {},
   "outputs": [],
   "source": [
    "start_urls=[]\n",
    "k=[]\n",
    "pic=[]\n",
    "name=[]"
   ]
  },
  {
   "cell_type": "code",
   "execution_count": 5,
   "metadata": {},
   "outputs": [],
   "source": [
    "os.mkdir(str(j))"
   ]
  },
  {
   "cell_type": "code",
   "execution_count": 6,
   "metadata": {},
   "outputs": [],
   "source": [
    "for i in range(len(x)):\n",
    "    url=str('https://www.mangareader.net'+x[i])\n",
    "    start_urls.append(url)"
   ]
  },
  {
   "cell_type": "code",
   "execution_count": 7,
   "metadata": {},
   "outputs": [],
   "source": [
    "for i in range(len(start_urls)):\n",
    "    text1 = requests.get(start_urls[i],stream=True, headers={'User-agent': 'Mozilla/5.0'}).text\n",
    "    sel1=Selector(text=text1)\n",
    "    name.append(sel1.xpath('//img[@id=\"img\"]/@src').extract())"
   ]
  },
  {
   "cell_type": "code",
   "execution_count": 8,
   "metadata": {},
   "outputs": [],
   "source": [
    "for i in range(len(x)):\n",
    "    with open(str(j)+\"/\"+name[i][0].split('/'+x[0].split('/')[1]+\"-\")[1], 'wb') as handle:\n",
    "        response = requests.get(name[i][0], stream=True)\n",
    "        if not response.ok:\n",
    "            print (response)\n",
    "\n",
    "        for block in response.iter_content(1024):\n",
    "            if not block:\n",
    "                break\n",
    "            handle.write(block)"
   ]
  },
  {
   "cell_type": "code",
   "execution_count": 9,
   "metadata": {},
   "outputs": [],
   "source": [
    "imagelist=os.listdir(str(j))"
   ]
  },
  {
   "cell_type": "code",
   "execution_count": 10,
   "metadata": {},
   "outputs": [
    {
     "data": {
      "text/plain": [
       "''"
      ]
     },
     "execution_count": 10,
     "metadata": {},
     "output_type": "execute_result"
    }
   ],
   "source": [
    "pdf = FPDF(orientation = 'P', unit = 'mm',format=(500,500))\n",
    "# imagelist is the list with all image filenames\n",
    "for image in imagelist:\n",
    "    pdf.add_page()\n",
    "    pdf.image(str(j)+\"/\"+image)\n",
    "\n",
    "    \n",
    "pdf.output(\"Chap\"+str(j)+\".pdf\", \"F\")"
   ]
  },
  {
   "cell_type": "code",
   "execution_count": null,
   "metadata": {},
   "outputs": [],
   "source": []
  }
 ],
 "metadata": {
  "kernelspec": {
   "display_name": "Python 3",
   "language": "python",
   "name": "python3"
  },
  "language_info": {
   "codemirror_mode": {
    "name": "ipython",
    "version": 3
   },
   "file_extension": ".py",
   "mimetype": "text/x-python",
   "name": "python",
   "nbconvert_exporter": "python",
   "pygments_lexer": "ipython3",
   "version": "3.6.7"
  }
 },
 "nbformat": 4,
 "nbformat_minor": 2
}
